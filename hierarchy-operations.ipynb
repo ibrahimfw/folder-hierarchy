{
 "cells": [
  {
   "cell_type": "markdown",
   "metadata": {},
   "source": [
    "# Hierarchy Operations\n",
    "\n",
    "### Required operations\n",
    "\n",
    "- [x] Find sub-folders - Find all the solution articles in the subtree (across all descendents till leaf)\n",
    "- [x] Find parent folders\n",
    "- [ ] Find immediate parent\n",
    "- [ ] Find immediate child\n",
    "- [ ] Find the size of nested level (graph length/tree height) to limit the hierarchy\n",
    "- [ ] Support infinite levels (practically applicable levels _say 100_)\n",
    "- [ ] Add a folder at any hierarchy\n",
    "- [ ] Remove a folder from any place at hierarchy\n",
    "- [ ] Delete all the subfolders"
   ]
  },
  {
   "cell_type": "markdown",
   "metadata": {},
   "source": [
    "## Find sub-folders"
   ]
  },
  {
   "cell_type": "markdown",
   "metadata": {},
   "source": [
    "```sql\n",
    "SELECT f.*, h.length from folders f JOIN hierarchy h ON f.id = h.child_id WHERE h.parent_id = 6 ORDER BY length;\n",
    "```\n",
    "\n",
    "- Finds all the sub folders from the given folder (including the given one)\n",
    "- Use case: Get all solution articles from subfolders including the current one.\n",
    "  - This can be achieved by fetching all the folders with above query and the the solution article belongs to the folders."
   ]
  },
  {
   "cell_type": "markdown",
   "metadata": {},
   "source": [
    "### Result\n",
    "\n",
    "| id | name | length |\n",
    "| :--- | :--- | :--- |\n",
    "| 6 | Employee Experience | 0 |\n",
    "| 8 | Employee Benefits | 1 |\n",
    "| 9 | Timeoff | 1 |\n",
    "| 10 | Online Doctor Consultation | 2 |\n",
    "| 11 | Daycare program | 2 |\n",
    "| 12 | Holidays | 2 |\n",
    "| 13 | Practo | 3 |\n",
    "| 14 | Medibuddy | 3 |\n",
    "| 15 | Holiday calendar 2023 | 3 |\n"
   ]
  },
  {
   "cell_type": "markdown",
   "metadata": {},
   "source": [
    "## Find parent folders"
   ]
  },
  {
   "cell_type": "markdown",
   "metadata": {},
   "source": [
    "```sql\n",
    "SELECT f.*, h.length from folders f JOIN hierarchy h ON f.id = h.parent_id WHERE h.child_id = 6 ORDER BY length DESC;\n",
    "```\n",
    "\n",
    "- Finds all the parent folder from current level all the way up to the root folder\n",
    "- Use case: \n",
    "  - Breadcrumbs\n",
    "  - When agent opens the solution article by id, we should expand its foler upto the root level"
   ]
  },
  {
   "cell_type": "markdown",
   "metadata": {},
   "source": [
    "### Result\n",
    "\n",
    "| id | name | length |\n",
    "| :--- | :--- | :--- |\n",
    "| 1 | People Space | 2 |\n",
    "| 2 | India | 1 |\n",
    "| 6 | Employee Experience | 0 |\n"
   ]
  }
 ],
 "metadata": {
  "language_info": {
   "name": "python"
  }
 },
 "nbformat": 4,
 "nbformat_minor": 2
}
