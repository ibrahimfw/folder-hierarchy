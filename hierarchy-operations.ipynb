{
 "cells": [
  {
   "cell_type": "markdown",
   "metadata": {},
   "source": [
    "# Hierarchy Operations\n",
    "\n",
    "### Required operations\n",
    "\n",
    "- [ ] Find all the ancestors from current node to the root\n",
    "  - Breadcrumbs\n",
    "  - Expand hierarchy of a given folder upto root\n",
    "- [ ] Find all the solution articles in the subtree (across all descendents till leaf)\n",
    "- [ ] Find immediate parent\n",
    "- [ ] Find immediate child\n",
    "- [ ] Find the size of nested level (graph length/tree height) to limit the hierarchy\n",
    "- [ ] Support infinite levels (practically applicable levels _say 100_)"
   ]
  },
  {
   "cell_type": "markdown",
   "metadata": {},
   "source": []
  }
 ],
 "metadata": {
  "language_info": {
   "name": "python"
  }
 },
 "nbformat": 4,
 "nbformat_minor": 2
}
