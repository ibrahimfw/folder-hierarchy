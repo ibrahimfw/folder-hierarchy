{
 "cells": [
  {
   "cell_type": "markdown",
   "metadata": {},
   "source": [
    "# Create Schema and test data"
   ]
  },
  {
   "cell_type": "markdown",
   "metadata": {},
   "source": [
    "## Create Schema"
   ]
  },
  {
   "cell_type": "markdown",
   "metadata": {},
   "source": [
    "### folders table\n",
    "\n",
    "```sql\n",
    "CREATE TABLE IF NOT EXISTS folders\n",
    "(\n",
    "    id   BIGINT      NOT NULL DEFAULT 0,\n",
    "    name VARCHAR(50) NOT NULL DEFAULT 0,\n",
    "    CONSTRAINT folders_pk PRIMARY KEY (id)\n",
    ");\n",
    "```"
   ]
  },
  {
   "cell_type": "markdown",
   "metadata": {},
   "source": [
    "### hierarchy table\n",
    "\n",
    "```sql\n",
    "CREATE TABLE IF NOT EXISTS hierarchy\n",
    "(\n",
    "    parent_id BIGINT NOT NULL,\n",
    "    child_id  BIGINT NOT NULL,\n",
    "    length    int    NOT NULL,\n",
    "    CONSTRAINT hierarchy_pk\n",
    "        PRIMARY KEY (parent_id, child_id),\n",
    "    CONSTRAINT hierarchy_child_fk\n",
    "        FOREIGN KEY (child_id) REFERENCES folders (id),\n",
    "    CONSTRAINT hierarchy_parent_fk\n",
    "        FOREIGN KEY (parent_id) REFERENCES folders (id)\n",
    ");\n",
    "```"
   ]
  },
  {
   "cell_type": "markdown",
   "metadata": {},
   "source": [
    "## Create data"
   ]
  },
  {
   "cell_type": "markdown",
   "metadata": {},
   "source": [
    "### folders data\n",
    "\n",
    "```sql\n",
    "INSERT INTO folders (id, name)\n",
    "VALUES (1, 'People Space'), (2, 'India'), (3, 'Global'), (4, 'CSR India'),\n",
    "       (5, 'Talent Acquisition'), (6, 'Employee Experience'), (7, 'Total Rewards'), (8, 'Employee Benefits'),\n",
    "       (9, 'Timeoff'), (10, 'Online Doctor Consultation'), (11, 'Daycare program'), (12, 'Holidays'),\n",
    "       (13, 'Practo'), (14, 'Medibuddy'), (15, 'Holiday calendar 2023'), (16, 'IT BU'),\n",
    "       (17, 'Freddy'), (18, 'Engineering'), (19, 'Tech Design'), (20, 'Virtual Agent'), (21, 'Q2C');\n",
    "```"
   ]
  },
  {
   "cell_type": "markdown",
   "metadata": {},
   "source": [
    "### hierarchy data\n",
    "\n",
    "```sql\n",
    "INSERT INTO hierarchy(parent_id, child_id, length)\n",
    "VALUES (1, 1, 0), (1, 2, 1), (1, 3, 1), (1, 4, 2), (1, 5, 2), (1, 6, 2), (1, 7, 2),\n",
    "       (1, 8, 3), (1, 9, 3), (1, 10, 4), (1, 11, 4), (1, 12, 4), (1, 13, 5), (1, 14, 5),\n",
    "       (1, 15, 5), (2, 2, 0), (2, 4, 1), (2, 5, 1), (2, 6, 1), (2, 7, 1), (2, 8, 2), \n",
    "       (2, 9, 2), (2, 10, 3), (2, 11, 3), (2, 12, 3), (2, 13, 4), (2, 14, 4), (2, 15, 4),\n",
    "       (3, 3, 0), (4, 4, 0), (5, 5, 0), (6, 6, 0), (6, 8, 1), (6, 9, 1), (6, 10, 2), (6, 11, 2),\n",
    "       (6, 12, 2), (6, 13, 3), (6, 14, 3), (6, 15, 3), (7, 7, 0), (8, 8, 0), (8, 10, 1), (8, 11, 1),\n",
    "       (8, 13, 2), (8, 14, 2), (9, 9, 0), (9, 12, 1), (9, 15, 2), (10, 10, 0), (10, 13, 1), (10, 14, 1),\n",
    "       (11, 11, 0), (12, 12, 0), (12, 15, 1), (13, 13, 0), (14, 14, 0), (15, 15, 0);\n",
    "```"
   ]
  }
 ],
 "metadata": {
  "language_info": {
   "name": "python"
  }
 },
 "nbformat": 4,
 "nbformat_minor": 2
}
