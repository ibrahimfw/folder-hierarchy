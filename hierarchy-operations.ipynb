{
 "cells": [
  {
   "cell_type": "markdown",
   "metadata": {},
   "source": [
    "# Hierarchy Operations\n",
    "\n",
    "### Required operations\n",
    "\n",
    "- [x] Find descendents - Find all the solution articles in the subtree (across all descendents till leaf)\n",
    "- [ ] Find all the ancestors from current node to the root\n",
    "  - Breadcrumbs\n",
    "  - Expand hierarchy of a given folder upto root\n",
    "- [ ] Find immediate parent\n",
    "- [ ] Find immediate child\n",
    "- [ ] Find the size of nested level (graph length/tree height) to limit the hierarchy\n",
    "- [ ] Support infinite levels (practically applicable levels _say 100_)\n",
    "- [ ] Add a folder at any hierarchy\n",
    "- [ ] Remove a folder from any place at hierarchy\n",
    "- [ ] Delete all the subfolders"
   ]
  },
  {
   "cell_type": "markdown",
   "metadata": {},
   "source": [
    "## Find descendents\n",
    "\n",
    "```sql\n",
    "SELECT f.*, h.length from folders f JOIN hierarchy h ON f.id = h.child_id WHERE h.parent_id = 6 ORDER BY length;\n",
    "```\n",
    "\n",
    "- Finds all the sub folders from the given folder (including the given one)\n",
    "- Use case: Get all solution articles from subfolders including the current one.\n",
    "  - This can be achieved by fetching all the folders with above query and the the solution article belongs to the folders."
   ]
  }
 ],
 "metadata": {
  "language_info": {
   "name": "python"
  }
 },
 "nbformat": 4,
 "nbformat_minor": 2
}
